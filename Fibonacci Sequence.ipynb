{
 "cells": [
  {
   "cell_type": "code",
   "execution_count": 5,
   "id": "e48e4876",
   "metadata": {
    "scrolled": true
   },
   "outputs": [
    {
     "name": "stdout",
     "output_type": "stream",
     "text": [
      "This algorithm generates a custom Fibonacci sequence.\n",
      "Enter the first term.\n",
      "5\n",
      "Enter the second term.\n",
      "6\n",
      "Enter the length of the sequence.\n",
      "10\n",
      "5\n",
      "6\n",
      "11\n",
      "17\n",
      "28\n",
      "45\n",
      "73\n",
      "118\n",
      "191\n",
      "309\n"
     ]
    }
   ],
   "source": [
    "print(\"This algorithm generates a custom Fibonacci sequence.\")\n",
    "print(\"Enter the first term.\")\n",
    "a=int(input())\n",
    "print(\"Enter the second term.\")\n",
    "b=int(input())\n",
    "print(\"Enter the length of the sequence.\")\n",
    "d=int(input())\n",
    "while True:\n",
    "    print(a)\n",
    "    d=d-1\n",
    "    print(b)\n",
    "    d=d-1\n",
    "    a=a+b\n",
    "    b=b+a\n",
    "    if d==0: break"
   ]
  },
  {
   "cell_type": "code",
   "execution_count": null,
   "id": "d8e2614a",
   "metadata": {},
   "outputs": [],
   "source": []
  }
 ],
 "metadata": {
  "kernelspec": {
   "display_name": "Python 3 (ipykernel)",
   "language": "python",
   "name": "python3"
  },
  "language_info": {
   "codemirror_mode": {
    "name": "ipython",
    "version": 3
   },
   "file_extension": ".py",
   "mimetype": "text/x-python",
   "name": "python",
   "nbconvert_exporter": "python",
   "pygments_lexer": "ipython3",
   "version": "3.10.9"
  }
 },
 "nbformat": 4,
 "nbformat_minor": 5
}
