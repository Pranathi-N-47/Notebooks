{
 "cells": [
  {
   "cell_type": "code",
   "execution_count": null,
   "id": "5bacb34e",
   "metadata": {},
   "outputs": [
    {
     "name": "stdout",
     "output_type": "stream",
     "text": [
      "This algorithm generates the factors of a number. Enter the number.\n"
     ]
    }
   ],
   "source": [
    "print(\"This algorithm generates the factors of a number. Enter the number.\")\n",
    "n=int(input())\n",
    "d=1\n",
    "while True:\n",
    "    if n%d==0:\n",
    "        print(d)\n",
    "    d=d+1\n",
    "    if d>n: break"
   ]
  },
  {
   "cell_type": "code",
   "execution_count": null,
   "id": "a8151fcf",
   "metadata": {},
   "outputs": [],
   "source": []
  },
  {
   "cell_type": "code",
   "execution_count": null,
   "id": "ddeacb6c",
   "metadata": {},
   "outputs": [],
   "source": []
  }
 ],
 "metadata": {
  "kernelspec": {
   "display_name": "Python 3 (ipykernel)",
   "language": "python",
   "name": "python3"
  },
  "language_info": {
   "codemirror_mode": {
    "name": "ipython",
    "version": 3
   },
   "file_extension": ".py",
   "mimetype": "text/x-python",
   "name": "python",
   "nbconvert_exporter": "python",
   "pygments_lexer": "ipython3",
   "version": "3.10.9"
  }
 },
 "nbformat": 4,
 "nbformat_minor": 5
}
