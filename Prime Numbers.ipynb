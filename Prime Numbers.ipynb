{
 "cells": [
  {
   "cell_type": "code",
   "execution_count": null,
   "id": "c888fa7e",
   "metadata": {},
   "outputs": [],
   "source": [
    "print(\"This algorithm checks if a number is prime. Enter your number.\")\n",
    "n = int(input())\n",
    "d = 2\n",
    "while n>d:\n",
    "    if n%d==0:\n",
    "        print(str(n)+\" is not prime.\")\n",
    "        break\n",
    "    else:\n",
    "        d = d+1\n",
    "print(str(n)+\" is prime.\")\n",
    "    "
   ]
  },
  {
   "cell_type": "code",
   "execution_count": null,
   "id": "16230902",
   "metadata": {},
   "outputs": [],
   "source": []
  }
 ],
 "metadata": {
  "kernelspec": {
   "display_name": "Python 3 (ipykernel)",
   "language": "python",
   "name": "python3"
  },
  "language_info": {
   "codemirror_mode": {
    "name": "ipython",
    "version": 3
   },
   "file_extension": ".py",
   "mimetype": "text/x-python",
   "name": "python",
   "nbconvert_exporter": "python",
   "pygments_lexer": "ipython3",
   "version": "3.10.9"
  }
 },
 "nbformat": 4,
 "nbformat_minor": 5
}
