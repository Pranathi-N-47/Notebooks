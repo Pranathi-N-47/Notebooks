{
 "cells": [
  {
   "cell_type": "code",
   "execution_count": 1,
   "id": "3f3189c7",
   "metadata": {},
   "outputs": [
    {
     "name": "stdout",
     "output_type": "stream",
     "text": [
      "This algorithm calculates factorials. Enter your number.\n",
      "3\n",
      "3! = 6.\n"
     ]
    }
   ],
   "source": [
    "print(\"This algorithm calculates factorials. Enter your number.\")\n",
    "n = int(input())\n",
    "f = n*(n-1)\n",
    "for d in range (n-2, 1, -1):\n",
    "    f = f*d\n",
    "print(str(n)+\"! = \"+str(f)+\".\")"
   ]
  },
  {
   "cell_type": "code",
   "execution_count": null,
   "id": "fc29b80b",
   "metadata": {},
   "outputs": [],
   "source": []
  }
 ],
 "metadata": {
  "kernelspec": {
   "display_name": "Python 3 (ipykernel)",
   "language": "python",
   "name": "python3"
  },
  "language_info": {
   "codemirror_mode": {
    "name": "ipython",
    "version": 3
   },
   "file_extension": ".py",
   "mimetype": "text/x-python",
   "name": "python",
   "nbconvert_exporter": "python",
   "pygments_lexer": "ipython3",
   "version": "3.10.9"
  }
 },
 "nbformat": 4,
 "nbformat_minor": 5
}
